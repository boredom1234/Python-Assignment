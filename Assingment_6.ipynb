{
 "cells": [
  {
   "cell_type": "markdown",
   "metadata": {},
   "source": [
    "##### P6: Implement ‘re’ module\n",
    "##### Imagine you are creating a form(Admission form/Registration Form, Booking Form, etc.,.) relevant to your domain. Create a function using the ‘re’ module to verify the following.\n",
    "##### 1. The input string is correct or not (name and dot)\n",
    "##### 2. Input has only digit(Register number, phone number)\n",
    "##### 3. Verify the email ID\n",
    "##### 4. Verify date of birth\n",
    "##### 5. Payment option\n",
    "##### 6. All the above five entries received the correct Input"
   ]
  },
  {
   "cell_type": "code",
   "execution_count": 1,
   "metadata": {},
   "outputs": [
    {
     "name": "stdout",
     "output_type": "stream",
     "text": [
      "True\n",
      "True\n",
      "True\n",
      "True\n",
      "True\n",
      "All flags are 1.\n"
     ]
    }
   ],
   "source": [
    "import re\n",
    "\n",
    "def verify_input(input_string):\n",
    "    pattern = r'^[A-Za-z\\s]+\\.'\n",
    "\n",
    "    if re.match(pattern, input_string):\n",
    "        print(\"True\")\n",
    "        return 1\n",
    "    else:\n",
    "        print(\"False\")\n",
    "        return 0\n",
    "\n",
    "def verify_number(register_num):\n",
    "    pattern2 = r'\\d'\n",
    "\n",
    "    if re.match(pattern2, register_num):\n",
    "        print(\"True\")\n",
    "        return 1\n",
    "    else:\n",
    "        print(\"False\")\n",
    "        return 0\n",
    "\n",
    "def verify_email(email):\n",
    "    pattern3 = r'^[a-zA-Z0-9_]+(\\.[a-zA-Z0-9_]+)*@[a-zA-Z]+\\.[a-z]{2,3}$'\n",
    "    if re.match(pattern3, email):\n",
    "        print(\"True\")\n",
    "        return 1\n",
    "    else:\n",
    "        print(\"False\")\n",
    "        return 0\n",
    "\n",
    "def verify_dob(dob):\n",
    "    pattern4 = r'^\\d{2}-\\d{2}-\\d{4}$'\n",
    "\n",
    "    if re.match(pattern4, dob):\n",
    "        print(\"True\")\n",
    "        return 1\n",
    "    else:\n",
    "        print(\"False\")\n",
    "        return 0\n",
    "\n",
    "def verify_Payment(pay):\n",
    "    txt = \"COD|UPI|Debit|Credit|Crypto\"\n",
    "    pattern5 = re.compile(txt)\n",
    "\n",
    "    if pattern5.match(pay):\n",
    "        print(\"True\")\n",
    "        return 1\n",
    "    else:\n",
    "        print(\"False\")\n",
    "        return 0\n",
    "\n",
    "\n",
    "def check_flags(flag1, flag2, flag3, flag4, flag5):\n",
    "    return flag1 == flag2 == flag3 == flag4 == flag5 == 1\n",
    "\n",
    "flag1 = verify_input(\"Mr. Rajdeep Banik\")\n",
    "flag2 = verify_number(\"123456\")\n",
    "flag3 = verify_email(\"banik.rajdeep@gmail.com\")\n",
    "flag4 = verify_dob(\"23-09-2002\")\n",
    "flag5 = verify_Payment(\"UPI\")\n",
    "\n",
    "if check_flags(flag1, flag2, flag3, flag4, flag5):\n",
    "    print(\"All flags are 1.\")\n",
    "else:\n",
    "    print(\"Not all flags are 1.\")\n"
   ]
  }
 ],
 "metadata": {
  "kernelspec": {
   "display_name": "Python 3",
   "language": "python",
   "name": "python3"
  },
  "language_info": {
   "codemirror_mode": {
    "name": "ipython",
    "version": 3
   },
   "file_extension": ".py",
   "mimetype": "text/x-python",
   "name": "python",
   "nbconvert_exporter": "python",
   "pygments_lexer": "ipython3",
   "version": "3.11.4"
  },
  "orig_nbformat": 4
 },
 "nbformat": 4,
 "nbformat_minor": 2
}
