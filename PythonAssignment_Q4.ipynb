{
 "cells": [
  {
   "cell_type": "markdown",
   "metadata": {},
   "source": [
    "(b) Put the above function in a module and use another script to import the module and\n",
    "call the function in the script."
   ]
  },
  {
   "cell_type": "code",
   "execution_count": 31,
   "metadata": {},
   "outputs": [
    {
     "name": "stdout",
     "output_type": "stream",
     "text": [
      "1000000000100100010000000001101001\n"
     ]
    }
   ],
   "source": [
    "from EncodeQR import EncodeQR\n",
    "\n",
    "p_name = \"Hi\"\n",
    "encoded_qr_list = EncodeQR(p_name)\n",
    "print(encoded_qr_list)"
   ]
  },
  {
   "cell_type": "markdown",
   "metadata": {},
   "source": [
    "P4:Demonstrate use of object- oriented programming concepts\n",
    "\n",
    "You are crazy about your selected domain. Today is The Day you can write a python\n",
    "program on YOUR DOMAIN!!!\n",
    "\n",
    "Create a class called “Your Domain Name” which has five attributes(2 string, 3 number).\n",
    "Initialize the variables in the “__init_\" method and write at least three more methods. With\n",
    "\n",
    "respect to your domain, you can create methods for getting Input, update the values,\n",
    "verify the condition, and etc,\n",
    "\n",
    "1. Create two objects and call the functions.\n",
    "2. Implement the concept of Inheritance and Polymorphism."
   ]
  },
  {
   "cell_type": "code",
   "execution_count": 23,
   "metadata": {},
   "outputs": [],
   "source": [
    "class VehicleParkingManagementSystem:\n",
    "    def __init__(self, location, manager, capacity, occupied_spots, available_spots):\n",
    "        self.location = location #String\n",
    "        self.manager = manager #String\n",
    "        self.capacity = capacity #Value\n",
    "        self.occupied_spots = occupied_spots #Value\n",
    "        self.available_spots = available_spots #Value\n",
    "\n",
    "    def display_info(self):\n",
    "        print(\"Parking Location:\", self.location)\n",
    "        print(\"Manager:\", self.manager)\n",
    "        print(\"Total Capacity:\", self.capacity)\n",
    "        print(\"Occupied Spots:\", self.occupied_spots)\n",
    "        print(\"Available Spots:\", self.available_spots)\n",
    "\n",
    "    def park_vehicle(self):\n",
    "        if self.available_spots > 0:\n",
    "            self.available_spots -= 1\n",
    "            self.occupied_spots += 1\n",
    "            print(\"Vehicle parked successfully.\")\n",
    "        else:\n",
    "            print(\"Parking is full. No available spots.\")\n",
    "\n",
    "    def vacate_spot(self):\n",
    "        if self.occupied_spots > 0:\n",
    "            self.available_spots += 1\n",
    "            self.occupied_spots -= 1\n",
    "            print(\"Spot vacated successfully.\")\n",
    "        else:\n",
    "            print(\"No vehicles to vacate.\")\n"
   ]
  },
  {
   "cell_type": "markdown",
   "metadata": {},
   "source": [
    "Inheritance and Polymorphism"
   ]
  },
  {
   "cell_type": "code",
   "execution_count": 24,
   "metadata": {},
   "outputs": [],
   "source": [
    "class ValetParkingSystem(VehicleParkingManagementSystem):\n",
    "    def __init__(self, location, manager, capacity, occupied_spots, available_spots, valet_count):\n",
    "        super().__init__(location, manager, capacity, occupied_spots, available_spots) #Giving access to methods from parent class\n",
    "        self.valet_count = valet_count\n",
    "\n",
    "    def display_info(self):\n",
    "        print(\"Valet Count:\", self.valet_count)\n",
    "\n",
    "    def park_vehicle(self):\n",
    "        if self.available_spots > 0 and self.valet_count > 0:\n",
    "            self.available_spots -= 1\n",
    "            self.occupied_spots += 1\n",
    "            self.valet_count -= 1\n",
    "            print(\"Vehicle parked by valet successfully.\")\n",
    "        else:\n",
    "            print(\"Parking or valet capacity is full.\")"
   ]
  },
  {
   "cell_type": "markdown",
   "metadata": {},
   "source": [
    "Creating objects and calling functions"
   ]
  },
  {
   "cell_type": "code",
   "execution_count": 25,
   "metadata": {},
   "outputs": [
    {
     "name": "stdout",
     "output_type": "stream",
     "text": [
      "Parking Location: Ground Floor Parking\n",
      "Manager: Brun Samer\n",
      "Total Capacity: 50\n",
      "Occupied Spots: 10\n",
      "Available Spots: 40\n",
      "Vehicle parked successfully.\n",
      "Spot vacated successfully.\n",
      "--------------------------------------------------------------\n",
      "Valet Count: 3\n",
      "Vehicle parked by valet successfully.\n",
      "Spot vacated successfully.\n"
     ]
    }
   ],
   "source": [
    "parking_system = VehicleParkingManagementSystem(\"Ground Floor Parking\", \"Brun Samer\", 50, 10, 40)\n",
    "parking_system.display_info()\n",
    "parking_system.park_vehicle()\n",
    "parking_system.vacate_spot()\n",
    "print(\"--------------------------------------------------------------\")\n",
    "valet_system = ValetParkingSystem(\"1st Floor Parking\", \"Jane Smith\", 30, 5, 25, 3)\n",
    "valet_system.display_info()\n",
    "valet_system.park_vehicle()\n",
    "valet_system.vacate_spot()"
   ]
  }
 ],
 "metadata": {
  "kernelspec": {
   "display_name": "Python 3",
   "language": "python",
   "name": "python3"
  },
  "language_info": {
   "codemirror_mode": {
    "name": "ipython",
    "version": 3
   },
   "file_extension": ".py",
   "mimetype": "text/x-python",
   "name": "python",
   "nbconvert_exporter": "python",
   "pygments_lexer": "ipython3",
   "version": "3.11.3"
  },
  "orig_nbformat": 4
 },
 "nbformat": 4,
 "nbformat_minor": 2
}
