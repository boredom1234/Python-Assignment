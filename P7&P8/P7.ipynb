{
 "cells": [
  {
   "cell_type": "markdown",
   "metadata": {},
   "source": [
    "# P7"
   ]
  },
  {
   "cell_type": "code",
   "execution_count": 14,
   "metadata": {},
   "outputs": [
    {
     "name": "stdout",
     "output_type": "stream",
     "text": [
      "[(1000, 'Torabati', 'Yoalanda', 'F', 'Programmer')\n",
      " (1001, 'Kleinn', 'Joel', 'M', 'Programmer')\n",
      " (1002, 'Ginsburg', 'Laura', 'F', 'President')\n",
      " (1003, 'Cox', 'Jennifer', 'F', 'Programmer')\n",
      " (1005, 'Ziada', 'Mauri', 'M', 'Product Designer')\n",
      " (1006, 'Keyser', 'Cara', 'F', 'Account Executive')\n",
      " (1010, 'Smith', 'Roxie', 'M', 'Programmer')\n",
      " (1011, 'Nelson', 'Robert', 'M', 'Programmer')\n",
      " (1012, 'Sachsen', 'Lars', 'M', 'Support Technician')\n",
      " (1013, 'Shannon', 'Don', 'M', 'Product Designer')]\n"
     ]
    }
   ],
   "source": [
    "import numpy as np\n",
    "\n",
    "employee_dtype = np.dtype([\n",
    "    ('Emp_ID', 'i4'),\n",
    "    ('Last_Name', 'U20'),\n",
    "    ('First_Name', 'U20'),\n",
    "    ('Gender', 'U1'),\n",
    "    ('Title', 'U25')\n",
    "])\n",
    "\n",
    "employee_table = np.empty(10, dtype=employee_dtype)\n",
    "\n",
    "employee_table['Emp_ID'] = [1000, 1001, 1002,\n",
    "                            1003, 1005, 1006, 1010, 1011, 1012, 1013]\n",
    "employee_table['Last_Name'] = ['Torabati', 'Kleinn', 'Ginsburg',\n",
    "                               'Cox', 'Ziada', 'Keyser', 'Smith', 'Nelson', 'Sachsen', 'Shannon']\n",
    "employee_table['First_Name'] = ['Yoalanda', 'Joel', 'Laura',\n",
    "                                'Jennifer', 'Mauri', 'Cara', 'Roxie', 'Robert', 'Lars', 'Don']\n",
    "employee_table['Gender'] = ['F', 'M', 'F', 'F', 'M', 'F', 'M', 'M', 'M', 'M']\n",
    "employee_table['Title'] = ['Programmer', 'Programmer', 'President', 'Programmer', 'Product Designer',\n",
    "                           'Account Executive', 'Programmer', 'Programmer', 'Support Technician', 'Product Designer']\n",
    "\n",
    "# Print the Employee table\n",
    "print(employee_table)"
   ]
  },
  {
   "cell_type": "markdown",
   "metadata": {},
   "source": [
    "1. How many Male employees are in a company?\n"
   ]
  },
  {
   "cell_type": "code",
   "execution_count": 3,
   "metadata": {},
   "outputs": [
    {
     "name": "stdout",
     "output_type": "stream",
     "text": [
      "Number of Male Employees: 6\n"
     ]
    }
   ],
   "source": [
    "male_employees = employee_table[employee_table['Gender'] == 'M']\n",
    "\n",
    "num_male_employees = len(male_employees)\n",
    "print(\"Number of Male Employees:\", num_male_employees)"
   ]
  },
  {
   "cell_type": "markdown",
   "metadata": {},
   "source": [
    "2. Display the details of employees whose Last_Name starts with S."
   ]
  },
  {
   "cell_type": "code",
   "execution_count": 4,
   "metadata": {},
   "outputs": [
    {
     "name": "stdout",
     "output_type": "stream",
     "text": [
      "Details of employees whose Last_Name starts with 'S':\n",
      "Emp_ID: 1010\n",
      "First Name: Roxie\n",
      "Last Name: Smith\n",
      "Gender: M\n",
      "Title: Programmer\n",
      "\n",
      "\n",
      "Emp_ID: 1012\n",
      "First Name: Lars\n",
      "Last Name: Sachsen\n",
      "Gender: M\n",
      "Title: Support Technician\n",
      "\n",
      "\n",
      "Emp_ID: 1013\n",
      "First Name: Don\n",
      "Last Name: Shannon\n",
      "Gender: M\n",
      "Title: Product Designer\n",
      "\n",
      "\n"
     ]
    }
   ],
   "source": [
    "import re\n",
    "\n",
    "employees_with_s_last_name = []\n",
    "\n",
    "pattern = re.compile(\"^S\")\n",
    "\n",
    "for employee in employee_table:\n",
    "    if pattern.search(employee['Last_Name']):\n",
    "        employees_with_s_last_name.append(employee)\n",
    "\n",
    "employees_with_s_last_name = np.array(\n",
    "    employees_with_s_last_name, dtype=employee_dtype)\n",
    "\n",
    "print(\"Details of employees whose Last_Name starts with 'S':\")\n",
    "for employee in employees_with_s_last_name:\n",
    "    print(\"Emp_ID:\", employee['Emp_ID'])\n",
    "    print(\"First Name:\", employee['First_Name'])\n",
    "    print(\"Last Name:\", employee['Last_Name'])\n",
    "    print(\"Gender:\", employee['Gender'])\n",
    "    print(\"Title:\", employee['Title'])\n",
    "    print(\"\\n\")"
   ]
  },
  {
   "cell_type": "markdown",
   "metadata": {},
   "source": [
    "3. Sort the Female Employee details in descending order based on First_Name."
   ]
  },
  {
   "cell_type": "code",
   "execution_count": 5,
   "metadata": {},
   "outputs": [
    {
     "name": "stdout",
     "output_type": "stream",
     "text": [
      "[(1000, 'Torabati', 'Yoalanda', 'F', 'Programmer')\n",
      " (1002, 'Ginsburg', 'Laura', 'F', 'President')\n",
      " (1003, 'Cox', 'Jennifer', 'F', 'Programmer')\n",
      " (1006, 'Keyser', 'Cara', 'F', 'Account Executive')]\n",
      "Female Employee details in descending order based on First_Name:\n",
      "Emp_ID: 1000\n",
      "First Name: Yoalanda\n",
      "Last Name: Torabati\n",
      "Gender: F\n",
      "Title: Programmer\n",
      "\n",
      "Emp_ID: 1002\n",
      "First Name: Laura\n",
      "Last Name: Ginsburg\n",
      "Gender: F\n",
      "Title: President\n",
      "\n",
      "Emp_ID: 1003\n",
      "First Name: Jennifer\n",
      "Last Name: Cox\n",
      "Gender: F\n",
      "Title: Programmer\n",
      "\n",
      "Emp_ID: 1006\n",
      "First Name: Cara\n",
      "Last Name: Keyser\n",
      "Gender: F\n",
      "Title: Account Executive\n",
      "\n"
     ]
    }
   ],
   "source": [
    "female_employees = employee_table[employee_table['Gender'] == 'F']\n",
    "print(female_employees)\n",
    "\n",
    "sorted_indices = np.argsort(female_employees['First_Name'])[::-1]\n",
    "sorted_female_employees = female_employees[sorted_indices]\n",
    "\n",
    "print(\"Female Employee details in descending order based on First_Name:\")\n",
    "for employee in sorted_female_employees:\n",
    "    print(\"Emp_ID:\", employee['Emp_ID'])\n",
    "    print(\"First Name:\", employee['First_Name'])\n",
    "    print(\"Last Name:\", employee['Last_Name'])\n",
    "    print(\"Gender:\", employee['Gender'])\n",
    "    print(\"Title:\", employee['Title'])\n",
    "    print()"
   ]
  },
  {
   "cell_type": "markdown",
   "metadata": {},
   "source": [
    "4. Extract 1D array and reshape it into 2D array."
   ]
  },
  {
   "cell_type": "code",
   "execution_count": 6,
   "metadata": {},
   "outputs": [
    {
     "name": "stdout",
     "output_type": "stream",
     "text": [
      "['Yoalanda' 'Joel' 'Laura' 'Jennifer' 'Mauri' 'Cara' 'Roxie' 'Robert'\n",
      " 'Lars' 'Don']\n",
      "2D Array for First_Name:\n",
      "[['Yoalanda' 'Joel']\n",
      " ['Laura' 'Jennifer']\n",
      " ['Mauri' 'Cara']\n",
      " ['Roxie' 'Robert']\n",
      " ['Lars' 'Don']]\n"
     ]
    }
   ],
   "source": [
    "First_Name_1d = employee_table['First_Name']\n",
    "print(First_Name_1d)\n",
    "\n",
    "First_Name_2d = First_Name_1d.reshape(-1, 2)\n",
    "\n",
    "print(\"2D Array for First_Name:\")\n",
    "print(First_Name_2d)"
   ]
  },
  {
   "cell_type": "markdown",
   "metadata": {},
   "source": [
    "5. Extract the below matrix using Boolean and Fancy indexing."
   ]
  },
  {
   "cell_type": "code",
   "execution_count": 10,
   "metadata": {},
   "outputs": [
    {
     "name": "stdout",
     "output_type": "stream",
     "text": [
      "[[(1002, 'Ginsburg', 'President')]\n",
      " [(1003, 'Cox', 'Programmer')]\n",
      " [(1005, 'Ziada', 'Product Designer')]\n",
      " [(1006, 'Keyser', 'Account Executive')]\n",
      " [(1010, 'Smith', 'Programmer')]\n",
      " [(1011, 'Nelson', 'Programmer')]\n",
      " [(1012, 'Sachsen', 'Support Technician')]]\n"
     ]
    }
   ],
   "source": [
    "indices_to_extract = [2, 3, 4, 5, 6, 7, 8]\n",
    "\n",
    "columns_to_extract = [\"Emp_ID\", \"Last_Name\", \"Title\"]\n",
    "\n",
    "selected_data = employee_table[indices_to_extract][columns_to_extract]\n",
    "\n",
    "print(selected_data.reshape(7,1))\n"
   ]
  }
 ],
 "metadata": {
  "kernelspec": {
   "display_name": "Python 3",
   "language": "python",
   "name": "python3"
  },
  "language_info": {
   "codemirror_mode": {
    "name": "ipython",
    "version": 3
   },
   "file_extension": ".py",
   "mimetype": "text/x-python",
   "name": "python",
   "nbconvert_exporter": "python",
   "pygments_lexer": "ipython3",
   "version": "3.11.4"
  },
  "orig_nbformat": 4
 },
 "nbformat": 4,
 "nbformat_minor": 2
}
