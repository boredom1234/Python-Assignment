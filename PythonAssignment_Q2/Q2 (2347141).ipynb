{
 "cells": [
  {
   "cell_type": "code",
   "execution_count": 21,
   "metadata": {},
   "outputs": [
    {
     "name": "stdout",
     "output_type": "stream",
     "text": [
      "Divisible by 3\n",
      "Even numbers: [12]\n",
      "Square of numbers are [144]\n",
      "The sum of digits of all even numbers in the list is: 12\n",
      "Original List:  [1, 2, 4, 2, 1, 4, 5, 1, 2, 1, 44, 14]\n",
      "List after removing duplicate elements:  [1, 2, 4, 5, 44, 14]\n"
     ]
    }
   ],
   "source": [
    "# 1. LIST\n",
    "# Write a PYTHON script with List comprehension for the following\n",
    "# • Is the given list divisible by 3 or NOT?\n",
    "\n",
    "# listItems = [1,2,3,4,5,6,7,8,9,10,11,12,13,14,15,16,17,18,19,20]\n",
    "listItems = [9,21,12]\n",
    "\n",
    "result = [num for num in listItems if num % 3 == 0]\n",
    "\n",
    "if len(result) == len(listItems):\n",
    "    print(\"Divisible by 3\")\n",
    "else:\n",
    "    print(\"Not Divisible by 3\")\n",
    "\n",
    "# • Square of even numbers in a list\n",
    "even_numbers = [num for num in listItems if num % 2 == 0]\n",
    "print(\"Even numbers:\", even_numbers)\n",
    "# def square(even_numbers):\n",
    "#     return [i ** 2 for i in even_numbers]\n",
    "square = [i ** 2 for i in even_numbers]\n",
    "\n",
    "print(\"Square of numbers are\", square)\n",
    "\n",
    "\n",
    "# • Sum of even numbers in a list\n",
    "sum_of_digits = sum(even_numbers)\n",
    "print(\"The sum of digits of all even numbers in the list is:\", sum_of_digits)\n",
    "\n",
    "# • Remove duplicate numbers in a list\n",
    "list2 = [1, 2, 4, 2, 1, 4, 5, 1, 2, 1, 44, 14]\n",
    "print(\"Original List: \", list2)\n",
    "res = list(set(list2))\n",
    "\n",
    "print(\"List after removing duplicate elements: \", res)\n"
   ]
  },
  {
   "cell_type": "code",
   "execution_count": 20,
   "metadata": {},
   "outputs": [
    {
     "data": {
      "text/plain": [
       "'5 November 1988'"
      ]
     },
     "execution_count": 20,
     "metadata": {},
     "output_type": "execute_result"
    }
   ],
   "source": [
    "# 2. Dictionary\n",
    "# Create a dictionary to store the details of your company employees (name as key and birthdate as value).\n",
    "\n",
    "def birthDate(employee_name):\n",
    "    dict1 = {'Virat Kohli': '5 November 1988', 'Umesh Yadav': '25 October 1987', 'Manish Pandey': '10 September 1989', 'Rohit Sharma': '30 April 1987', 'Ravindra Jadeja': '6 December 1988', 'Hardik Pandya': '11 October 1993'}\n",
    "    if employee_name in dict1:\n",
    "        return dict1[employee_name]\n",
    "    else:\n",
    "        return 'Error: Employee not found.'\n",
    "\n",
    "birthDate(input(\"Enter the Employee Full Name\"))"
   ]
  }
 ],
 "metadata": {
  "kernelspec": {
   "display_name": "Python 3",
   "language": "python",
   "name": "python3"
  },
  "language_info": {
   "codemirror_mode": {
    "name": "ipython",
    "version": 3
   },
   "file_extension": ".py",
   "mimetype": "text/x-python",
   "name": "python",
   "nbconvert_exporter": "python",
   "pygments_lexer": "ipython3",
   "version": "3.11.3"
  },
  "orig_nbformat": 4
 },
 "nbformat": 4,
 "nbformat_minor": 2
}
