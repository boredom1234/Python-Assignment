{
 "cells": [
  {
   "cell_type": "code",
   "execution_count": 1,
   "metadata": {},
   "outputs": [
    {
     "name": "stdout",
     "output_type": "stream",
     "text": [
      "Specific Word Count: 1\n"
     ]
    }
   ],
   "source": [
    "# Initialization\n",
    "domain_para = \"The Vehicle Parking Management System is a software application designed to efficiently manage and streamline the parking operations in various establishments, such as shopping malls, airports, office complexes, and public spaces. This system provides a comprehensive solution for parking lot administrators to oversee and control the entire parking process. It incorporates technologies like RFID, automated ticketing systems, and CCTV surveillance to monitor vehicle entry and exit, allocate parking spaces, and handle payment transactions. The system helps optimize parking space utilization, reduces congestion, and enhances security by recording vehicle details and time-stamping entries. Additionally, it offers real-time data analysis and reporting, enabling administrators to track revenue, monitor parking trends, and make informed decisions for improving overall parking facility management. With its user-friendly interface and automated functionalities, the Vehicle Parking Management System aims to provide a seamless and hassle-free parking experience for both the parking lot operators and the users.\"\n",
    "words = domain_para.split()\n",
    "count = words.count('software')\n",
    "print (\"Specific Word Count:\", count)"
   ]
  },
  {
   "cell_type": "code",
   "execution_count": 28,
   "metadata": {},
   "outputs": [
    {
     "name": "stdout",
     "output_type": "stream",
     "text": [
      "Characters: 1115\n",
      "Words: 148\n",
      "Lines: 1\n"
     ]
    }
   ],
   "source": [
    "# Count characters\n",
    "characters = len(domain_para)\n",
    "print (\"Characters:\", characters)\n",
    "\n",
    "# Count words\n",
    "words_list = domain_para.split()\n",
    "words = len(words_list)\n",
    "print (\"Words:\", words)\n",
    "\n",
    "\n",
    "# Count lines\n",
    "lines_list = domain_para.splitlines()\n",
    "lines = len(lines_list)\n",
    "print (\"Lines:\", lines)"
   ]
  },
  {
   "cell_type": "code",
   "execution_count": 42,
   "metadata": {},
   "outputs": [
    {
     "ename": "TypeError",
     "evalue": "'list' object is not callable",
     "output_type": "error",
     "traceback": [
      "\u001b[1;31m---------------------------------------------------------------------------\u001b[0m",
      "\u001b[1;31mTypeError\u001b[0m                                 Traceback (most recent call last)",
      "Cell \u001b[1;32mIn[42], line 2\u001b[0m\n\u001b[0;32m      1\u001b[0m domain_name \u001b[39m=\u001b[39m \u001b[39m'\u001b[39m\u001b[39mVehicle Parking Management System\u001b[39m\u001b[39m'\u001b[39m\n\u001b[1;32m----> 2\u001b[0m sorted_chars \u001b[39m=\u001b[39m \u001b[39m'\u001b[39m\u001b[39m'\u001b[39m\u001b[39m.\u001b[39mjoin(\u001b[39msorted\u001b[39;49m(domain_name))\n\u001b[0;32m      3\u001b[0m \u001b[39mprint\u001b[39m(sorted_chars)\n",
      "\u001b[1;31mTypeError\u001b[0m: 'list' object is not callable"
     ]
    }
   ],
   "source": [
    "domain_name = \"Vehicle Parking Management System\"\n",
    "sorted_chars = ''.join(sorted(domain_name))\n",
    "print(sorted_chars)\n"
   ]
  },
  {
   "cell_type": "code",
   "execution_count": 4,
   "metadata": {},
   "outputs": [
    {
     "name": "stdout",
     "output_type": "stream",
     "text": [
      "Input: ABC\n",
      "Encrypt Method: value of n = 3\n",
      "Output: DEF\n"
     ]
    }
   ],
   "source": [
    "# Input string to encrypt\n",
    "domain_name = input()\n",
    "\n",
    "# Value of 'n' given by the user\n",
    "n = int(input(\"Enter the number for encyption process: \"))\n",
    "\n",
    "# Initialize an empty string for the encrypted result\n",
    "encrypted_domain = \"\"\n",
    "\n",
    "# Loop through each character in the input string\n",
    "for char in domain_name:\n",
    "    if char.isalpha():\n",
    "        # Determine if the character is uppercase or lowercase\n",
    "        is_upper = char.isupper()\n",
    "\n",
    "        # Convert the character to its ASCII value\n",
    "        ascii_value = ord(char)\n",
    "\n",
    "        # Apply the encryption formula while considering uppercase and lowercase letters separately\n",
    "        if is_upper:\n",
    "            encrypted_char = chr((ascii_value - 65 + n) % 26 + 65)\n",
    "        else:\n",
    "            encrypted_char = chr((ascii_value - 97 + n) % 26 + 97)\n",
    "    else:\n",
    "        # Keep non-alphabetic characters unchanged\n",
    "        encrypted_char = char\n",
    "\n",
    "    # Append the encrypted character to the result string\n",
    "    encrypted_domain += encrypted_char\n",
    "\n",
    "# Output the encrypted result\n",
    "print(f\"Input: {domain_name}\")\n",
    "print(f\"Encrypt Method: value of n = {n}\")\n",
    "print(f\"Output: {encrypted_domain}\")"
   ]
  },
  {
   "cell_type": "code",
   "execution_count": 36,
   "metadata": {},
   "outputs": [
    {
     "name": "stdout",
     "output_type": "stream",
     "text": [
      "350.0\n",
      "475.0\n"
     ]
    }
   ],
   "source": [
    "def pay(hourly_wage, hours_worked):\n",
    "    regular_hours = min(hours_worked, 40)\n",
    "    overtime_hours = max(hours_worked - 40, 0)\n",
    "\n",
    "    regular_pay = regular_hours * hourly_wage\n",
    "    overtime_pay = overtime_hours * (hourly_wage * 1.5)\n",
    "\n",
    "    total_pay = regular_pay + overtime_pay\n",
    "\n",
    "    return total_pay\n",
    "\n",
    "result1 = pay(10, 35)\n",
    "result2 = pay(10, 45)\n",
    "print(result1)\n",
    "print(result2)"
   ]
  },
  {
   "cell_type": "code",
   "execution_count": 41,
   "metadata": {},
   "outputs": [
    {
     "ename": "TypeError",
     "evalue": "'list' object is not callable",
     "output_type": "error",
     "traceback": [
      "\u001b[1;31m---------------------------------------------------------------------------\u001b[0m",
      "\u001b[1;31mTypeError\u001b[0m                                 Traceback (most recent call last)",
      "Cell \u001b[1;32mIn[41], line 5\u001b[0m\n\u001b[0;32m      2\u001b[0m houses_for_rent \u001b[39m=\u001b[39m [(\u001b[39m'\u001b[39m\u001b[39mmain st.\u001b[39m\u001b[39m'\u001b[39m, \u001b[39m4\u001b[39m, \u001b[39m4000\u001b[39m), (\u001b[39m'\u001b[39m\u001b[39melm st.\u001b[39m\u001b[39m'\u001b[39m, \u001b[39m1\u001b[39m, \u001b[39m1200\u001b[39m), (\u001b[39m'\u001b[39m\u001b[39mpine st.\u001b[39m\u001b[39m'\u001b[39m, \u001b[39m2\u001b[39m, \u001b[39m1600\u001b[39m)]\n\u001b[0;32m      4\u001b[0m \u001b[39m# Sort the list in ascending order by the first numeric value (bedrooms)\u001b[39;00m\n\u001b[1;32m----> 5\u001b[0m sorted_by_bedrooms \u001b[39m=\u001b[39m \u001b[39msorted\u001b[39;49m(houses_for_rent, key\u001b[39m=\u001b[39;49m\u001b[39mlambda\u001b[39;49;00m x: x[\u001b[39m1\u001b[39;49m])\n\u001b[0;32m      7\u001b[0m \u001b[39m# Sort the list in descending order by the second numeric value (price)\u001b[39;00m\n\u001b[0;32m      8\u001b[0m sorted_by_price_desc \u001b[39m=\u001b[39m \u001b[39msorted\u001b[39m(houses_for_rent, key\u001b[39m=\u001b[39m\u001b[39mlambda\u001b[39;00m x: x[\u001b[39m2\u001b[39m], reverse\u001b[39m=\u001b[39m\u001b[39mTrue\u001b[39;00m)\n",
      "\u001b[1;31mTypeError\u001b[0m: 'list' object is not callable"
     ]
    }
   ],
   "source": [
    "houses_for_rent = [('main st.', 4, 4000), ('elm st.', 1, 1200), ('pine st.', 2, 1600)]\n",
    "\n",
    "sorted_by_bedrooms = sorted(houses_for_rent, key=lambda x: x[1])\n",
    "\n",
    "sorted_by_price_desc = sorted(houses_for_rent, key=lambda x: x[2], reverse=True)\n",
    "\n",
    "sorted_by_street = sorted(houses_for_rent, key=lambda x: x[0])\n",
    "\n",
    "print(\"Original list:\")\n",
    "print(houses_for_rent)\n",
    "\n",
    "print(\"\\nSorted in ascending order by bedrooms:\")\n",
    "print(sorted_by_bedrooms)\n",
    "\n",
    "print(\"\\nSorted in descending order by price:\")\n",
    "print(sorted_by_price_desc)\n",
    "\n",
    "print(\"\\nSorted in alphabetical order by street:\")\n",
    "print(sorted_by_street)\n"
   ]
  }
 ],
 "metadata": {
  "kernelspec": {
   "display_name": "Python 3",
   "language": "python",
   "name": "python3"
  },
  "language_info": {
   "codemirror_mode": {
    "name": "ipython",
    "version": 3
   },
   "file_extension": ".py",
   "mimetype": "text/x-python",
   "name": "python",
   "nbconvert_exporter": "python",
   "pygments_lexer": "ipython3",
   "version": "3.11.4"
  },
  "orig_nbformat": 4
 },
 "nbformat": 4,
 "nbformat_minor": 2
}
